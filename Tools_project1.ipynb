{
 "cells": [
  {
   "cell_type": "code",
   "execution_count": 1,
   "metadata": {},
   "outputs": [],
   "source": [
    "import requests\n",
    "from bs4 import BeautifulSoup"
   ]
  },
  {
   "cell_type": "code",
   "execution_count": 2,
   "metadata": {},
   "outputs": [
    {
     "name": "stdout",
     "output_type": "stream",
     "text": [
      "<Response [200]>\n",
      "Success\n"
     ]
    }
   ],
   "source": [
    "#keywords = input(\"Please enter the company name you would like to search\")\n",
    "#Allow: GET, POST, HEAD\n",
    "url = \"https://finance.yahoo.com/quote/AAPL/news?p=AAPL\"\n",
    "response = requests.get(url)\n",
    "print(response)\n",
    "if response.status_code == 200:\n",
    "    print(\"Success\")\n",
    "else:\n",
    "    print(\"Failure\")"
   ]
  },
  {
   "cell_type": "code",
   "execution_count": 3,
   "metadata": {},
   "outputs": [
    {
     "name": "stdout",
     "output_type": "stream",
     "text": [
      "<class 'bs4.BeautifulSoup'>\n"
     ]
    }
   ],
   "source": [
    "results_page = BeautifulSoup(response.content,'lxml')\n",
    "print(type(results_page))\n",
    "#print(results_page)"
   ]
  },
  {
   "cell_type": "code",
   "execution_count": 4,
   "metadata": {},
   "outputs": [],
   "source": [
    "all_h3_tags = results_page.find_all('h3', {'class': \"Mb(5px)\"})"
   ]
  },
  {
   "cell_type": "code",
   "execution_count": 5,
   "metadata": {},
   "outputs": [
    {
     "data": {
      "text/plain": [
       "<h3 class=\"Mb(5px)\" data-reactid=\"15\"><a class=\"Fw(b) Fz(20px) Lh(23px) LineClamp(2,46px) Fz(17px)--sm1024 Lh(19px)--sm1024 LineClamp(2,38px)--sm1024 Td(n) C(#0078ff):h C(#000)\" data-reactid=\"16\" href=\"/video/stocks-claw-back-tuesdays-losses-193613342.html\"><u class=\"StretchedBox\" data-reactid=\"17\"></u><!-- react-text: 18 -->Stocks claw back Tuesday's losses<!-- /react-text --></a></h3>"
      ]
     },
     "execution_count": 5,
     "metadata": {},
     "output_type": "execute_result"
    }
   ],
   "source": [
    "all_h3_tags[0]"
   ]
  },
  {
   "cell_type": "code",
   "execution_count": 9,
   "metadata": {},
   "outputs": [
    {
     "data": {
      "text/plain": [
       "['/video/stocks-claw-back-tuesdays-losses-193613342.html',\n",
       " '/video/stocks-rise-tech-rebounds-183920203.html',\n",
       " '/video/zuckerberg-not-step-down-chairman-182314178.html',\n",
       " '/video/goldman-sachs-reduces-apple-price-221253404.html',\n",
       " '/news/faang-stalled-market-needs-leadership-somewhere-215141483.html',\n",
       " '/video/markets-drop-tech-slowdown-fears-201206287.html',\n",
       " '/video/rbc-mark-mahaney-says-don-193100226.html',\n",
       " '/news/tech-stocks-rebound-drop-though-191646401.html',\n",
       " '/m/4f45170c-8232-30f1-8510-ce5b0b0f46ea/what%27s-the-best-faang-stock.html',\n",
       " '/m/208b3071-446e-3db5-8339-960c8078393e/how-apple%E2%80%99s-iphone-weakness.html',\n",
       " '/news/selloff-tech-stocks-infecting-rest-190407034.html',\n",
       " '/news/tim-cook-spends-first-two-133404480.html',\n",
       " '/news/profit-wall-street-crash-etfs-180006613.html',\n",
       " '/m/a077ac28-dcb3-3c18-8839-36577f10d613/why-the-bad-news-on-apple.html',\n",
       " '/news/10-high-tech-gifts-cost-131743852.html']"
      ]
     },
     "execution_count": 9,
     "metadata": {},
     "output_type": "execute_result"
    }
   ],
   "source": [
    "article_link = []\n",
    "for tag in all_h3_tags:\n",
    "    article_link.append(tag.find('a').get('href'))\n",
    "article_link"
   ]
  },
  {
   "cell_type": "code",
   "execution_count": 7,
   "metadata": {},
   "outputs": [],
   "source": [
    "#article_link = all_h3_tags[0].get('href')"
   ]
  },
  {
   "cell_type": "code",
   "execution_count": 26,
   "metadata": {},
   "outputs": [
    {
     "data": {
      "text/plain": [
       "True"
      ]
     },
     "execution_count": 26,
     "metadata": {},
     "output_type": "execute_result"
    }
   ],
   "source": []
  },
  {
   "cell_type": "code",
   "execution_count": 6,
   "metadata": {},
   "outputs": [],
   "source": [
    "all_source_tags = results_page.find_all('div', {'class': \"C(#959595) Fz(11px) D(ib) Mb(6px)\"})"
   ]
  },
  {
   "cell_type": "code",
   "execution_count": 7,
   "metadata": {},
   "outputs": [
    {
     "data": {
      "text/plain": [
       "<div class=\"C(#959595) Fz(11px) D(ib) Mb(6px)\" data-reactid=\"182\"><span data-reactid=\"183\">TheStreet.com</span><i aria-hidden=\"true\" class=\"Mx(4px)\" data-reactid=\"184\">•</i><span data-reactid=\"185\">8 minutes ago</span></div>"
      ]
     },
     "execution_count": 7,
     "metadata": {},
     "output_type": "execute_result"
    }
   ],
   "source": [
    "all_source_tags[7]"
   ]
  },
  {
   "cell_type": "code",
   "execution_count": 12,
   "metadata": {},
   "outputs": [],
   "source": [
    "source_=list()\n",
    "for tag in all_source_tags:\n",
    "    info=tag.find_all('span')\n",
    "    info1=info[0].get_text()\n",
    "    info2=info[1].get_text()\n",
    "    #source_.append(info)\n",
    "        "
   ]
  },
  {
   "cell_type": "code",
   "execution_count": 14,
   "metadata": {},
   "outputs": [
    {
     "data": {
      "text/plain": [
       "'2 hours ago'"
      ]
     },
     "execution_count": 14,
     "metadata": {},
     "output_type": "execute_result"
    }
   ],
   "source": [
    "info2"
   ]
  },
  {
   "cell_type": "code",
   "execution_count": null,
   "metadata": {},
   "outputs": [],
   "source": []
  }
 ],
 "metadata": {
  "kernelspec": {
   "display_name": "Python 3",
   "language": "python",
   "name": "python3"
  },
  "language_info": {
   "codemirror_mode": {
    "name": "ipython",
    "version": 3
   },
   "file_extension": ".py",
   "mimetype": "text/x-python",
   "name": "python",
   "nbconvert_exporter": "python",
   "pygments_lexer": "ipython3",
   "version": "3.6.5"
  }
 },
 "nbformat": 4,
 "nbformat_minor": 2
}
